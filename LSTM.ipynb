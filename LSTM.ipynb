{
  "cells": [
    {
      "cell_type": "code",
      "execution_count": null,
      "metadata": {
        "id": "XjwMPKSC8kRA"
      },
      "outputs": [],
      "source": [
        "import pandas as pd\n",
        "import numpy as np\n",
        "from sklearn.preprocessing import MinMaxScaler\n",
        "from tensorflow.keras.models import Sequential\n",
        "from tensorflow.keras.layers import LSTM, Dense"
      ]
    },
    {
      "cell_type": "code",
      "source": [
        "from google.colab import files\n",
        "\n",
        "# Загрузка файла 'change4.csv'\n",
        "uploaded = files.upload()"
      ],
      "metadata": {
        "id": "CHMaQp74_MVk",
        "colab": {
          "base_uri": "https://localhost:8080/",
          "height": 71
        },
        "outputId": "11c804ea-0505-4eac-811a-b7a7a5fd5e87"
      },
      "execution_count": 7,
      "outputs": [
        {
          "output_type": "display_data",
          "data": {
            "text/plain": [
              "<IPython.core.display.HTML object>"
            ],
            "text/html": [
              "\n",
              "     <input type=\"file\" id=\"files-f7b0b25d-c203-4e62-a839-3699205124c6\" name=\"files[]\" multiple disabled\n",
              "        style=\"border:none\" />\n",
              "     <output id=\"result-f7b0b25d-c203-4e62-a839-3699205124c6\">\n",
              "      Upload widget is only available when the cell has been executed in the\n",
              "      current browser session. Please rerun this cell to enable.\n",
              "      </output>\n",
              "      <script>// Copyright 2017 Google LLC\n",
              "//\n",
              "// Licensed under the Apache License, Version 2.0 (the \"License\");\n",
              "// you may not use this file except in compliance with the License.\n",
              "// You may obtain a copy of the License at\n",
              "//\n",
              "//      http://www.apache.org/licenses/LICENSE-2.0\n",
              "//\n",
              "// Unless required by applicable law or agreed to in writing, software\n",
              "// distributed under the License is distributed on an \"AS IS\" BASIS,\n",
              "// WITHOUT WARRANTIES OR CONDITIONS OF ANY KIND, either express or implied.\n",
              "// See the License for the specific language governing permissions and\n",
              "// limitations under the License.\n",
              "\n",
              "/**\n",
              " * @fileoverview Helpers for google.colab Python module.\n",
              " */\n",
              "(function(scope) {\n",
              "function span(text, styleAttributes = {}) {\n",
              "  const element = document.createElement('span');\n",
              "  element.textContent = text;\n",
              "  for (const key of Object.keys(styleAttributes)) {\n",
              "    element.style[key] = styleAttributes[key];\n",
              "  }\n",
              "  return element;\n",
              "}\n",
              "\n",
              "// Max number of bytes which will be uploaded at a time.\n",
              "const MAX_PAYLOAD_SIZE = 100 * 1024;\n",
              "\n",
              "function _uploadFiles(inputId, outputId) {\n",
              "  const steps = uploadFilesStep(inputId, outputId);\n",
              "  const outputElement = document.getElementById(outputId);\n",
              "  // Cache steps on the outputElement to make it available for the next call\n",
              "  // to uploadFilesContinue from Python.\n",
              "  outputElement.steps = steps;\n",
              "\n",
              "  return _uploadFilesContinue(outputId);\n",
              "}\n",
              "\n",
              "// This is roughly an async generator (not supported in the browser yet),\n",
              "// where there are multiple asynchronous steps and the Python side is going\n",
              "// to poll for completion of each step.\n",
              "// This uses a Promise to block the python side on completion of each step,\n",
              "// then passes the result of the previous step as the input to the next step.\n",
              "function _uploadFilesContinue(outputId) {\n",
              "  const outputElement = document.getElementById(outputId);\n",
              "  const steps = outputElement.steps;\n",
              "\n",
              "  const next = steps.next(outputElement.lastPromiseValue);\n",
              "  return Promise.resolve(next.value.promise).then((value) => {\n",
              "    // Cache the last promise value to make it available to the next\n",
              "    // step of the generator.\n",
              "    outputElement.lastPromiseValue = value;\n",
              "    return next.value.response;\n",
              "  });\n",
              "}\n",
              "\n",
              "/**\n",
              " * Generator function which is called between each async step of the upload\n",
              " * process.\n",
              " * @param {string} inputId Element ID of the input file picker element.\n",
              " * @param {string} outputId Element ID of the output display.\n",
              " * @return {!Iterable<!Object>} Iterable of next steps.\n",
              " */\n",
              "function* uploadFilesStep(inputId, outputId) {\n",
              "  const inputElement = document.getElementById(inputId);\n",
              "  inputElement.disabled = false;\n",
              "\n",
              "  const outputElement = document.getElementById(outputId);\n",
              "  outputElement.innerHTML = '';\n",
              "\n",
              "  const pickedPromise = new Promise((resolve) => {\n",
              "    inputElement.addEventListener('change', (e) => {\n",
              "      resolve(e.target.files);\n",
              "    });\n",
              "  });\n",
              "\n",
              "  const cancel = document.createElement('button');\n",
              "  inputElement.parentElement.appendChild(cancel);\n",
              "  cancel.textContent = 'Cancel upload';\n",
              "  const cancelPromise = new Promise((resolve) => {\n",
              "    cancel.onclick = () => {\n",
              "      resolve(null);\n",
              "    };\n",
              "  });\n",
              "\n",
              "  // Wait for the user to pick the files.\n",
              "  const files = yield {\n",
              "    promise: Promise.race([pickedPromise, cancelPromise]),\n",
              "    response: {\n",
              "      action: 'starting',\n",
              "    }\n",
              "  };\n",
              "\n",
              "  cancel.remove();\n",
              "\n",
              "  // Disable the input element since further picks are not allowed.\n",
              "  inputElement.disabled = true;\n",
              "\n",
              "  if (!files) {\n",
              "    return {\n",
              "      response: {\n",
              "        action: 'complete',\n",
              "      }\n",
              "    };\n",
              "  }\n",
              "\n",
              "  for (const file of files) {\n",
              "    const li = document.createElement('li');\n",
              "    li.append(span(file.name, {fontWeight: 'bold'}));\n",
              "    li.append(span(\n",
              "        `(${file.type || 'n/a'}) - ${file.size} bytes, ` +\n",
              "        `last modified: ${\n",
              "            file.lastModifiedDate ? file.lastModifiedDate.toLocaleDateString() :\n",
              "                                    'n/a'} - `));\n",
              "    const percent = span('0% done');\n",
              "    li.appendChild(percent);\n",
              "\n",
              "    outputElement.appendChild(li);\n",
              "\n",
              "    const fileDataPromise = new Promise((resolve) => {\n",
              "      const reader = new FileReader();\n",
              "      reader.onload = (e) => {\n",
              "        resolve(e.target.result);\n",
              "      };\n",
              "      reader.readAsArrayBuffer(file);\n",
              "    });\n",
              "    // Wait for the data to be ready.\n",
              "    let fileData = yield {\n",
              "      promise: fileDataPromise,\n",
              "      response: {\n",
              "        action: 'continue',\n",
              "      }\n",
              "    };\n",
              "\n",
              "    // Use a chunked sending to avoid message size limits. See b/62115660.\n",
              "    let position = 0;\n",
              "    do {\n",
              "      const length = Math.min(fileData.byteLength - position, MAX_PAYLOAD_SIZE);\n",
              "      const chunk = new Uint8Array(fileData, position, length);\n",
              "      position += length;\n",
              "\n",
              "      const base64 = btoa(String.fromCharCode.apply(null, chunk));\n",
              "      yield {\n",
              "        response: {\n",
              "          action: 'append',\n",
              "          file: file.name,\n",
              "          data: base64,\n",
              "        },\n",
              "      };\n",
              "\n",
              "      let percentDone = fileData.byteLength === 0 ?\n",
              "          100 :\n",
              "          Math.round((position / fileData.byteLength) * 100);\n",
              "      percent.textContent = `${percentDone}% done`;\n",
              "\n",
              "    } while (position < fileData.byteLength);\n",
              "  }\n",
              "\n",
              "  // All done.\n",
              "  yield {\n",
              "    response: {\n",
              "      action: 'complete',\n",
              "    }\n",
              "  };\n",
              "}\n",
              "\n",
              "scope.google = scope.google || {};\n",
              "scope.google.colab = scope.google.colab || {};\n",
              "scope.google.colab._files = {\n",
              "  _uploadFiles,\n",
              "  _uploadFilesContinue,\n",
              "};\n",
              "})(self);\n",
              "</script> "
            ]
          },
          "metadata": {}
        },
        {
          "output_type": "stream",
          "name": "stdout",
          "text": [
            "Saving change4.csv to change4.csv\n"
          ]
        }
      ]
    },
    {
      "cell_type": "code",
      "source": [
        "# Загрузка данных об обменном курсе\n",
        "data = pd.read_csv('change4.csv')\n",
        "data['date'] = pd.to_datetime(data['date'])  # Преобразование столбца \"Date\" в тип данных DateTime\n",
        "data.set_index('date', inplace=True)  # Установка столбца \"Date\" в качестве индекса"
      ],
      "metadata": {
        "id": "H33OGP7J_MTp"
      },
      "execution_count": 47,
      "outputs": []
    },
    {
      "cell_type": "code",
      "source": [
        "data = data[['exchange_rate']]"
      ],
      "metadata": {
        "id": "b7EXUUlSBMYt"
      },
      "execution_count": 48,
      "outputs": []
    },
    {
      "cell_type": "code",
      "source": [
        "# Нормализация данных\n",
        "scaler = MinMaxScaler()\n",
        "data_normalized = scaler.fit_transform(data)"
      ],
      "metadata": {
        "id": "OqU5nT71BMVV"
      },
      "execution_count": 49,
      "outputs": []
    },
    {
      "cell_type": "code",
      "source": [
        "# Разделение данных на обучающий и тестовый наборы\n",
        "train_size = int(len(data_normalized) * 0.8)\n",
        "train_data = data_normalized[:train_size]\n",
        "test_data = data_normalized[train_size:]"
      ],
      "metadata": {
        "id": "hZngQo2LBMTU"
      },
      "execution_count": 50,
      "outputs": []
    },
    {
      "cell_type": "code",
      "source": [
        "# Функция для создания входных данных и меток\n",
        "def create_sequences(data, seq_length):\n",
        "    X = []\n",
        "    y = []\n",
        "    for i in range(len(data)-seq_length):\n",
        "        X.append(data[i:i+seq_length])\n",
        "        y.append(data[i+seq_length])\n",
        "    return np.array(X), np.array(y)\n"
      ],
      "metadata": {
        "id": "yIRebxx7BMKA"
      },
      "execution_count": 51,
      "outputs": []
    },
    {
      "cell_type": "code",
      "source": [
        "# Задание параметров модели\n",
        "seq_length = 10  # Длина последовательности\n",
        "n_features = 1  # Количество признаков (столбцов данных)\n"
      ],
      "metadata": {
        "id": "ojm4pDUOBtLm"
      },
      "execution_count": 52,
      "outputs": []
    },
    {
      "cell_type": "code",
      "source": [
        "# Создание последовательностей для обучения\n",
        "X_train, y_train = create_sequences(train_data, seq_length)"
      ],
      "metadata": {
        "id": "O76QD4x6BtIS"
      },
      "execution_count": 53,
      "outputs": []
    },
    {
      "cell_type": "code",
      "source": [
        "# Создание и обучение модели LSTM\n",
        "model = Sequential()\n",
        "model.add(LSTM(64, activation='relu', input_shape=(seq_length, n_features)))\n",
        "model.add(Dense(1))\n",
        "model.compile(optimizer='adam', loss='mse')\n",
        "model.fit(X_train, y_train, epochs=50, batch_size=32)\n"
      ],
      "metadata": {
        "colab": {
          "base_uri": "https://localhost:8080/"
        },
        "id": "YNkiexEJBtGK",
        "outputId": "9ed11d43-419e-44f5-c7a1-41caafd923b8"
      },
      "execution_count": 54,
      "outputs": [
        {
          "output_type": "stream",
          "name": "stdout",
          "text": [
            "Epoch 1/50\n",
            "13/13 [==============================] - 2s 7ms/step - loss: 0.1513\n",
            "Epoch 2/50\n",
            "13/13 [==============================] - 0s 6ms/step - loss: 0.0669\n",
            "Epoch 3/50\n",
            "13/13 [==============================] - 0s 6ms/step - loss: 0.0094\n",
            "Epoch 4/50\n",
            "13/13 [==============================] - 0s 7ms/step - loss: 0.0058\n",
            "Epoch 5/50\n",
            "13/13 [==============================] - 0s 7ms/step - loss: 0.0041\n",
            "Epoch 6/50\n",
            "13/13 [==============================] - 0s 6ms/step - loss: 0.0034\n",
            "Epoch 7/50\n",
            "13/13 [==============================] - 0s 6ms/step - loss: 0.0028\n",
            "Epoch 8/50\n",
            "13/13 [==============================] - 0s 6ms/step - loss: 0.0025\n",
            "Epoch 9/50\n",
            "13/13 [==============================] - 0s 6ms/step - loss: 0.0024\n",
            "Epoch 10/50\n",
            "13/13 [==============================] - 0s 6ms/step - loss: 0.0023\n",
            "Epoch 11/50\n",
            "13/13 [==============================] - 0s 9ms/step - loss: 0.0023\n",
            "Epoch 12/50\n",
            "13/13 [==============================] - 0s 9ms/step - loss: 0.0023\n",
            "Epoch 13/50\n",
            "13/13 [==============================] - 0s 9ms/step - loss: 0.0024\n",
            "Epoch 14/50\n",
            "13/13 [==============================] - 0s 11ms/step - loss: 0.0023\n",
            "Epoch 15/50\n",
            "13/13 [==============================] - 0s 9ms/step - loss: 0.0024\n",
            "Epoch 16/50\n",
            "13/13 [==============================] - 0s 9ms/step - loss: 0.0024\n",
            "Epoch 17/50\n",
            "13/13 [==============================] - 0s 9ms/step - loss: 0.0023\n",
            "Epoch 18/50\n",
            "13/13 [==============================] - 0s 9ms/step - loss: 0.0022\n",
            "Epoch 19/50\n",
            "13/13 [==============================] - 0s 9ms/step - loss: 0.0023\n",
            "Epoch 20/50\n",
            "13/13 [==============================] - 0s 9ms/step - loss: 0.0021\n",
            "Epoch 21/50\n",
            "13/13 [==============================] - 0s 9ms/step - loss: 0.0021\n",
            "Epoch 22/50\n",
            "13/13 [==============================] - 0s 9ms/step - loss: 0.0021\n",
            "Epoch 23/50\n",
            "13/13 [==============================] - 0s 10ms/step - loss: 0.0020\n",
            "Epoch 24/50\n",
            "13/13 [==============================] - 0s 10ms/step - loss: 0.0021\n",
            "Epoch 25/50\n",
            "13/13 [==============================] - 0s 10ms/step - loss: 0.0023\n",
            "Epoch 26/50\n",
            "13/13 [==============================] - 0s 9ms/step - loss: 0.0020\n",
            "Epoch 27/50\n",
            "13/13 [==============================] - 0s 9ms/step - loss: 0.0020\n",
            "Epoch 28/50\n",
            "13/13 [==============================] - 0s 10ms/step - loss: 0.0019\n",
            "Epoch 29/50\n",
            "13/13 [==============================] - 0s 10ms/step - loss: 0.0019\n",
            "Epoch 30/50\n",
            "13/13 [==============================] - 0s 12ms/step - loss: 0.0019\n",
            "Epoch 31/50\n",
            "13/13 [==============================] - 0s 10ms/step - loss: 0.0019\n",
            "Epoch 32/50\n",
            "13/13 [==============================] - 0s 9ms/step - loss: 0.0019\n",
            "Epoch 33/50\n",
            "13/13 [==============================] - 0s 10ms/step - loss: 0.0018\n",
            "Epoch 34/50\n",
            "13/13 [==============================] - 0s 10ms/step - loss: 0.0018\n",
            "Epoch 35/50\n",
            "13/13 [==============================] - 0s 8ms/step - loss: 0.0019\n",
            "Epoch 36/50\n",
            "13/13 [==============================] - 0s 6ms/step - loss: 0.0019\n",
            "Epoch 37/50\n",
            "13/13 [==============================] - 0s 6ms/step - loss: 0.0018\n",
            "Epoch 38/50\n",
            "13/13 [==============================] - 0s 6ms/step - loss: 0.0018\n",
            "Epoch 39/50\n",
            "13/13 [==============================] - 0s 7ms/step - loss: 0.0019\n",
            "Epoch 40/50\n",
            "13/13 [==============================] - 0s 6ms/step - loss: 0.0018\n",
            "Epoch 41/50\n",
            "13/13 [==============================] - 0s 7ms/step - loss: 0.0017\n",
            "Epoch 42/50\n",
            "13/13 [==============================] - 0s 6ms/step - loss: 0.0017\n",
            "Epoch 43/50\n",
            "13/13 [==============================] - 0s 7ms/step - loss: 0.0017\n",
            "Epoch 44/50\n",
            "13/13 [==============================] - 0s 6ms/step - loss: 0.0016\n",
            "Epoch 45/50\n",
            "13/13 [==============================] - 0s 6ms/step - loss: 0.0016\n",
            "Epoch 46/50\n",
            "13/13 [==============================] - 0s 7ms/step - loss: 0.0016\n",
            "Epoch 47/50\n",
            "13/13 [==============================] - 0s 7ms/step - loss: 0.0016\n",
            "Epoch 48/50\n",
            "13/13 [==============================] - 0s 6ms/step - loss: 0.0015\n",
            "Epoch 49/50\n",
            "13/13 [==============================] - 0s 6ms/step - loss: 0.0016\n",
            "Epoch 50/50\n",
            "13/13 [==============================] - 0s 8ms/step - loss: 0.0015\n"
          ]
        },
        {
          "output_type": "execute_result",
          "data": {
            "text/plain": [
              "<keras.callbacks.History at 0x7faa178f7040>"
            ]
          },
          "metadata": {},
          "execution_count": 54
        }
      ]
    },
    {
      "cell_type": "code",
      "source": [
        "# Прогнозирование на тестовом наборе данных\n",
        "inputs = data_normalized[len(data_normalized)-len(test_data)-seq_length:]\n",
        "X_test, y_test = create_sequences(inputs, seq_length)\n",
        "predictions = model.predict(X_test)"
      ],
      "metadata": {
        "colab": {
          "base_uri": "https://localhost:8080/"
        },
        "id": "Jy4Ep-GNCBH1",
        "outputId": "7fb1715b-95b6-46ad-ebf6-0bafd53618b9"
      },
      "execution_count": 55,
      "outputs": [
        {
          "output_type": "stream",
          "name": "stdout",
          "text": [
            "4/4 [==============================] - 0s 4ms/step\n"
          ]
        }
      ]
    },
    {
      "cell_type": "code",
      "source": [
        "# Обратная нормализация прогнозов\n",
        "predictions1 = predictions.reshape(-1, 1)\n",
        "firsts = scaler.inverse_transform(predictions1)\n"
      ],
      "metadata": {
        "id": "y3CtfBRjCAwi"
      },
      "execution_count": 56,
      "outputs": []
    },
    {
      "cell_type": "code",
      "source": [
        "len(predictions1)"
      ],
      "metadata": {
        "colab": {
          "base_uri": "https://localhost:8080/"
        },
        "id": "VJhY-3ipG9Jd",
        "outputId": "d3f2ea1d-2b27-4b33-f9c5-012d4ea8559e"
      },
      "execution_count": 64,
      "outputs": [
        {
          "output_type": "execute_result",
          "data": {
            "text/plain": [
              "100"
            ]
          },
          "metadata": {},
          "execution_count": 64
        }
      ]
    },
    {
      "cell_type": "code",
      "source": [
        "train = X_test.reshape(-1, 1)\n",
        "len(train)"
      ],
      "metadata": {
        "colab": {
          "base_uri": "https://localhost:8080/"
        },
        "id": "iEqZHpKUInZE",
        "outputId": "4c4af497-f431-4e8c-9d84-4c8d153404cf"
      },
      "execution_count": 68,
      "outputs": [
        {
          "output_type": "execute_result",
          "data": {
            "text/plain": [
              "1000"
            ]
          },
          "metadata": {},
          "execution_count": 68
        }
      ]
    },
    {
      "cell_type": "code",
      "source": [
        "test = y_test.reshape(-1, 1)\n",
        "len(test)"
      ],
      "metadata": {
        "colab": {
          "base_uri": "https://localhost:8080/"
        },
        "id": "E6UIG3BmDzaJ",
        "outputId": "7f3e419b-a35e-4a0e-9f1f-d1812ea2724e"
      },
      "execution_count": 66,
      "outputs": [
        {
          "output_type": "execute_result",
          "data": {
            "text/plain": [
              "100"
            ]
          },
          "metadata": {},
          "execution_count": 66
        }
      ]
    },
    {
      "cell_type": "code",
      "source": [
        "# Построение графика прогноза и фактических значений\n",
        "import matplotlib.pyplot as plt\n",
        "# Визуализация результатов\n",
        "plt.figure(figsize=(12, 6))\n",
        "plt.plot(test, label='Тестовая выборка')\n",
        "plt.plot(predictions1, label='Прогноз')\n",
        "plt.legend(loc='best')\n",
        "plt.title('Прогноз обменного курса')\n",
        "plt.xlabel('Дата')\n",
        "plt.ylabel('Курс')\n",
        "plt.show()"
      ],
      "metadata": {
        "colab": {
          "base_uri": "https://localhost:8080/",
          "height": 564
        },
        "id": "BV5suBGfCAtS",
        "outputId": "495c09e4-8e81-4604-8700-2fed2ca20ad1"
      },
      "execution_count": 70,
      "outputs": [
        {
          "output_type": "display_data",
          "data": {
            "text/plain": [
              "<Figure size 1200x600 with 1 Axes>"
            ],
            "image/png": "[encoded data removed]"
          },
          "metadata": {}
        }
      ]
    },
    {
      "cell_type": "code",
      "source": [
        "from sklearn.metrics import mean_absolute_error, mean_squared_error, r2_score\n",
        "mae = mean_absolute_error(test, predictions1)\n",
        "mse = mean_squared_error(test, predictions1)\n",
        "r2= r2_score(test, predictions1)\n",
        "\n",
        "print(\"MAE:\",mae)\n",
        "print(\"MSE:\",mse)\n",
        "print(\"R2:\",r2)"
      ],
      "metadata": {
        "colab": {
          "base_uri": "https://localhost:8080/"
        },
        "id": "MFoGOfKRCArI",
        "outputId": "ed3a2459-419c-4cb4-ad65-63fff0c98d0b"
      },
      "execution_count": 72,
      "outputs": [
        {
          "output_type": "stream",
          "name": "stdout",
          "text": [
            "MAE: 0.052992187290761404\n",
            "MSE: 0.007351040365762958\n",
            "R2: 0.9228707163178962\n"
          ]
        }
      ]
    },
    {
      "cell_type": "code",
      "source": [],
      "metadata": {
        "id": "oS8KI3SHJDCN"
      },
      "execution_count": null,
      "outputs": []
    },
    {
      "cell_type": "code",
      "source": [],
      "metadata": {
        "id": "C34xKmWbJC-q"
      },
      "execution_count": null,
      "outputs": []
    },
    {
      "cell_type": "code",
      "source": [],
      "metadata": {
        "id": "oETal5maJC8u"
      },
      "execution_count": null,
      "outputs": []
    }
  ],
  "metadata": {
    "colab": {
      "provenance": []
    },
    "kernelspec": {
      "display_name": "Python 3",
      "name": "python3"
    },
    "language_info": {
      "name": "python"
    }
  },
  "nbformat": 4,
  "nbformat_minor": 0
}